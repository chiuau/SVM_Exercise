{
  "nbformat": 4,
  "nbformat_minor": 0,
  "metadata": {
    "colab": {
      "provenance": []
    },
    "kernelspec": {
      "name": "python3",
      "display_name": "Python 3"
    },
    "language_info": {
      "name": "python"
    }
  },
  "cells": [
    {
      "cell_type": "code",
      "execution_count": null,
      "metadata": {
        "id": "LPwiMlBJrsqY"
      },
      "outputs": [],
      "source": [
        "# Import scikit-learn dataset library\n",
        "from sklearn import datasets\n",
        "\n",
        "# Load dataset\n",
        "iris = datasets.load_iris()"
      ]
    },
    {
      "cell_type": "code",
      "source": [
        "# print the names of the features\n",
        "print(\"Features: \", iris.feature_names)"
      ],
      "metadata": {
        "id": "EVUFdQTJrwa1"
      },
      "execution_count": null,
      "outputs": []
    },
    {
      "cell_type": "code",
      "source": [
        "# print the label type of the flowers\n",
        "print(\"Labels: \", iris.target_names)"
      ],
      "metadata": {
        "id": "rQJ2genor1FR"
      },
      "execution_count": null,
      "outputs": []
    },
    {
      "cell_type": "code",
      "source": [
        "# print the data features (last 5 records)\n",
        "print(iris.data[-5:])"
      ],
      "metadata": {
        "id": "7yJkVRKcr4EJ"
      },
      "execution_count": null,
      "outputs": []
    },
    {
      "cell_type": "code",
      "source": [
        "# print the labels (0:setosa, 1:versicolor, 2:virginica)\n",
        "print(iris.target[-5:])"
      ],
      "metadata": {
        "id": "NK0nAqmsr8yB"
      },
      "execution_count": null,
      "outputs": []
    },
    {
      "cell_type": "code",
      "source": [
        "# Import train_test_split function\n",
        "from sklearn.model_selection import train_test_split"
      ],
      "metadata": {
        "id": "jARd1KPJr_Xp"
      },
      "execution_count": null,
      "outputs": []
    },
    {
      "cell_type": "code",
      "source": [
        "# Split dataset into training set and test set  (70% training and 30% test)\n",
        "X_train, X_test, y_train, y_test = train_test_split(iris.data, iris.target, test_size=0.3, random_state=109)"
      ],
      "metadata": {
        "id": "6pZ6nvVasCrJ"
      },
      "execution_count": null,
      "outputs": []
    },
    {
      "cell_type": "code",
      "source": [
        "# Import svm model\n",
        "from sklearn.pipeline import Pipeline\n",
        "from sklearn.preprocessing import StandardScaler\n",
        "from sklearn import svm"
      ],
      "metadata": {
        "id": "91f6neD7sICm"
      },
      "execution_count": null,
      "outputs": []
    },
    {
      "cell_type": "code",
      "source": [
        "# Create a svm classifier\n",
        "clf = Pipeline([\n",
        "            (\"scaler\", StandardScaler()),\n",
        "            (\"linear_svc\", svm.LinearSVC(C=1))\n",
        "        ])"
      ],
      "metadata": {
        "id": "dUjJcqI5sJeQ"
      },
      "execution_count": null,
      "outputs": []
    },
    {
      "cell_type": "code",
      "source": [
        "# Train the model using the training sets\n",
        "clf.fit(X_train, y_train)"
      ],
      "metadata": {
        "id": "wsloEEawDgWx"
      },
      "execution_count": null,
      "outputs": []
    },
    {
      "cell_type": "code",
      "source": [
        "# Predict the response for test dataset\n",
        "y_pred = clf.predict(X_test)"
      ],
      "metadata": {
        "id": "gPYcJ29UDhpW"
      },
      "execution_count": null,
      "outputs": []
    },
    {
      "cell_type": "code",
      "source": [
        "# Import scikit-learn metrics module for accuracy calculation\n",
        "from sklearn import metrics\n",
        "\n",
        "# Model Accuracy: how often is the classifier correct?\n",
        "print(\"Accuracy:\",metrics.accuracy_score(y_test, y_pred))"
      ],
      "metadata": {
        "id": "o83bBjwTsMRd"
      },
      "execution_count": null,
      "outputs": []
    },
    {
      "cell_type": "code",
      "source": [
        "# Create an svm classifier with a polynomial kernel of degree 3\n",
        "clf = Pipeline([\n",
        "            (\"scaler\", StandardScaler()),\n",
        "            (\"svm_clf\", svm.SVC(kernel=\"poly\", degree=3, coef0=1, C=5))\n",
        "        ])"
      ],
      "metadata": {
        "id": "brh39o8UsRtH"
      },
      "execution_count": null,
      "outputs": []
    },
    {
      "cell_type": "code",
      "source": [
        "# Train the model using the training sets\n",
        "clf.fit(X_train, y_train)"
      ],
      "metadata": {
        "id": "6adZ7Mh-sTiU"
      },
      "execution_count": null,
      "outputs": []
    },
    {
      "cell_type": "code",
      "source": [
        "# Predict the response for test dataset\n",
        "y_pred = clf.predict(X_test)"
      ],
      "metadata": {
        "id": "hFJDmAMQD5ep"
      },
      "execution_count": null,
      "outputs": []
    },
    {
      "cell_type": "code",
      "source": [
        "# Model Accuracy: how often is the classifier correct?\n",
        "print(\"Accuracy:\",metrics.accuracy_score(y_test, y_pred))"
      ],
      "metadata": {
        "id": "Ooz5WMGCsVm5"
      },
      "execution_count": null,
      "outputs": []
    }
  ]
}